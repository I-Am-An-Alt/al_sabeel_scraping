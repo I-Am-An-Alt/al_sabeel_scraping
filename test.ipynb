{
 "cells": [
  {
   "cell_type": "code",
   "execution_count": 7,
   "metadata": {},
   "outputs": [
    {
     "ename": "InvalidSelectorException",
     "evalue": "Message: invalid selector: Unable to locate an element with the xpath expression /html/body/div[2]/div/div[1]/div/main/div/div/div/article/div[3]/div[1]/div[4]] because of the following error:\nSyntaxError: Failed to execute 'evaluate' on 'Document': The string '/html/body/div[2]/div/div[1]/div/main/div/div/div/article/div[3]/div[1]/div[4]]' is not a valid XPath expression.\n  (Session info: chrome=110.0.5481.100)\nStacktrace:\n#0 0x5582caa84d93 <unknown>\n#1 0x5582ca8532d7 <unknown>\n#2 0x5582ca8568d3 <unknown>\n#3 0x5582ca856642 <unknown>\n#4 0x5582ca85695c <unknown>\n#5 0x5582ca88f887 <unknown>\n#6 0x5582ca88fdb1 <unknown>\n#7 0x5582ca8cd8f4 <unknown>\n#8 0x5582ca8b361d <unknown>\n#9 0x5582ca8cb619 <unknown>\n#10 0x5582ca8b3353 <unknown>\n#11 0x5582ca882e40 <unknown>\n#12 0x5582ca884038 <unknown>\n#13 0x5582caad88be <unknown>\n#14 0x5582caadc8f0 <unknown>\n#15 0x5582caabcf90 <unknown>\n#16 0x5582caaddb7d <unknown>\n#17 0x5582caaae578 <unknown>\n#18 0x5582cab02348 <unknown>\n#19 0x5582cab024d6 <unknown>\n#20 0x5582cab1c341 <unknown>\n#21 0x7f97b9d51fd4 <unknown>\n",
     "output_type": "error",
     "traceback": [
      "\u001b[0;31m---------------------------------------------------------------------------\u001b[0m",
      "\u001b[0;31mInvalidSelectorException\u001b[0m                  Traceback (most recent call last)",
      "\u001b[0;32m/tmp/ipykernel_35047/3953225173.py\u001b[0m in \u001b[0;36m<module>\u001b[0;34m\u001b[0m\n\u001b[1;32m     18\u001b[0m \u001b[0;34m\u001b[0m\u001b[0m\n\u001b[1;32m     19\u001b[0m \u001b[0;34m\u001b[0m\u001b[0m\n\u001b[0;32m---> 20\u001b[0;31m \u001b[0mhi\u001b[0m \u001b[0;34m=\u001b[0m \u001b[0mdriver\u001b[0m\u001b[0;34m.\u001b[0m\u001b[0mfind_element\u001b[0m\u001b[0;34m(\u001b[0m\u001b[0mBy\u001b[0m\u001b[0;34m.\u001b[0m\u001b[0mXPATH\u001b[0m\u001b[0;34m,\u001b[0m \u001b[0;34m\"/html/body/div[2]/div/div[1]/div/main/div/div/div/article/div[3]/div[1]/div[4]]\"\u001b[0m\u001b[0;34m)\u001b[0m\u001b[0;34m\u001b[0m\u001b[0;34m\u001b[0m\u001b[0m\n\u001b[0m\u001b[1;32m     21\u001b[0m \u001b[0;34m\u001b[0m\u001b[0m\n\u001b[1;32m     22\u001b[0m \u001b[0;34m\u001b[0m\u001b[0m\n",
      "\u001b[0;32m~/.local/lib/python3.11/site-packages/selenium/webdriver/remote/webdriver.py\u001b[0m in \u001b[0;36mfind_element\u001b[0;34m(self, by, value)\u001b[0m\n\u001b[1;32m   1242\u001b[0m             \u001b[0mvalue\u001b[0m \u001b[0;34m=\u001b[0m \u001b[0;34m'[name=\"%s\"]'\u001b[0m \u001b[0;34m%\u001b[0m \u001b[0mvalue\u001b[0m\u001b[0;34m\u001b[0m\u001b[0;34m\u001b[0m\u001b[0m\n\u001b[1;32m   1243\u001b[0m \u001b[0;34m\u001b[0m\u001b[0m\n\u001b[0;32m-> 1244\u001b[0;31m         return self.execute(Command.FIND_ELEMENT, {\n\u001b[0m\u001b[1;32m   1245\u001b[0m             \u001b[0;34m'using'\u001b[0m\u001b[0;34m:\u001b[0m \u001b[0mby\u001b[0m\u001b[0;34m,\u001b[0m\u001b[0;34m\u001b[0m\u001b[0;34m\u001b[0m\u001b[0m\n\u001b[1;32m   1246\u001b[0m             'value': value})['value']\n",
      "\u001b[0;32m~/.local/lib/python3.11/site-packages/selenium/webdriver/remote/webdriver.py\u001b[0m in \u001b[0;36mexecute\u001b[0;34m(self, driver_command, params)\u001b[0m\n\u001b[1;32m    422\u001b[0m         \u001b[0mresponse\u001b[0m \u001b[0;34m=\u001b[0m \u001b[0mself\u001b[0m\u001b[0;34m.\u001b[0m\u001b[0mcommand_executor\u001b[0m\u001b[0;34m.\u001b[0m\u001b[0mexecute\u001b[0m\u001b[0;34m(\u001b[0m\u001b[0mdriver_command\u001b[0m\u001b[0;34m,\u001b[0m \u001b[0mparams\u001b[0m\u001b[0;34m)\u001b[0m\u001b[0;34m\u001b[0m\u001b[0;34m\u001b[0m\u001b[0m\n\u001b[1;32m    423\u001b[0m         \u001b[0;32mif\u001b[0m \u001b[0mresponse\u001b[0m\u001b[0;34m:\u001b[0m\u001b[0;34m\u001b[0m\u001b[0;34m\u001b[0m\u001b[0m\n\u001b[0;32m--> 424\u001b[0;31m             \u001b[0mself\u001b[0m\u001b[0;34m.\u001b[0m\u001b[0merror_handler\u001b[0m\u001b[0;34m.\u001b[0m\u001b[0mcheck_response\u001b[0m\u001b[0;34m(\u001b[0m\u001b[0mresponse\u001b[0m\u001b[0;34m)\u001b[0m\u001b[0;34m\u001b[0m\u001b[0;34m\u001b[0m\u001b[0m\n\u001b[0m\u001b[1;32m    425\u001b[0m             response['value'] = self._unwrap_value(\n\u001b[1;32m    426\u001b[0m                 response.get('value', None))\n",
      "\u001b[0;32m~/.local/lib/python3.11/site-packages/selenium/webdriver/remote/errorhandler.py\u001b[0m in \u001b[0;36mcheck_response\u001b[0;34m(self, response)\u001b[0m\n\u001b[1;32m    245\u001b[0m                 \u001b[0malert_text\u001b[0m \u001b[0;34m=\u001b[0m \u001b[0mvalue\u001b[0m\u001b[0;34m[\u001b[0m\u001b[0;34m'alert'\u001b[0m\u001b[0;34m]\u001b[0m\u001b[0;34m.\u001b[0m\u001b[0mget\u001b[0m\u001b[0;34m(\u001b[0m\u001b[0;34m'text'\u001b[0m\u001b[0;34m)\u001b[0m\u001b[0;34m\u001b[0m\u001b[0;34m\u001b[0m\u001b[0m\n\u001b[1;32m    246\u001b[0m             \u001b[0;32mraise\u001b[0m \u001b[0mexception_class\u001b[0m\u001b[0;34m(\u001b[0m\u001b[0mmessage\u001b[0m\u001b[0;34m,\u001b[0m \u001b[0mscreen\u001b[0m\u001b[0;34m,\u001b[0m \u001b[0mstacktrace\u001b[0m\u001b[0;34m,\u001b[0m \u001b[0malert_text\u001b[0m\u001b[0;34m)\u001b[0m  \u001b[0;31m# type: ignore[call-arg]  # mypy is not smart enough here\u001b[0m\u001b[0;34m\u001b[0m\u001b[0;34m\u001b[0m\u001b[0m\n\u001b[0;32m--> 247\u001b[0;31m         \u001b[0;32mraise\u001b[0m \u001b[0mexception_class\u001b[0m\u001b[0;34m(\u001b[0m\u001b[0mmessage\u001b[0m\u001b[0;34m,\u001b[0m \u001b[0mscreen\u001b[0m\u001b[0;34m,\u001b[0m \u001b[0mstacktrace\u001b[0m\u001b[0;34m)\u001b[0m\u001b[0;34m\u001b[0m\u001b[0;34m\u001b[0m\u001b[0m\n\u001b[0m\u001b[1;32m    248\u001b[0m \u001b[0;34m\u001b[0m\u001b[0m\n\u001b[1;32m    249\u001b[0m     \u001b[0;32mdef\u001b[0m \u001b[0m_value_or_default\u001b[0m\u001b[0;34m(\u001b[0m\u001b[0mself\u001b[0m\u001b[0;34m,\u001b[0m \u001b[0mobj\u001b[0m\u001b[0;34m:\u001b[0m \u001b[0mMapping\u001b[0m\u001b[0;34m[\u001b[0m\u001b[0m_KT\u001b[0m\u001b[0;34m,\u001b[0m \u001b[0m_VT\u001b[0m\u001b[0;34m]\u001b[0m\u001b[0;34m,\u001b[0m \u001b[0mkey\u001b[0m\u001b[0;34m:\u001b[0m \u001b[0m_KT\u001b[0m\u001b[0;34m,\u001b[0m \u001b[0mdefault\u001b[0m\u001b[0;34m:\u001b[0m \u001b[0m_VT\u001b[0m\u001b[0;34m)\u001b[0m \u001b[0;34m->\u001b[0m \u001b[0m_VT\u001b[0m\u001b[0;34m:\u001b[0m\u001b[0;34m\u001b[0m\u001b[0;34m\u001b[0m\u001b[0m\n",
      "\u001b[0;31mInvalidSelectorException\u001b[0m: Message: invalid selector: Unable to locate an element with the xpath expression /html/body/div[2]/div/div[1]/div/main/div/div/div/article/div[3]/div[1]/div[4]] because of the following error:\nSyntaxError: Failed to execute 'evaluate' on 'Document': The string '/html/body/div[2]/div/div[1]/div/main/div/div/div/article/div[3]/div[1]/div[4]]' is not a valid XPath expression.\n  (Session info: chrome=110.0.5481.100)\nStacktrace:\n#0 0x5582caa84d93 <unknown>\n#1 0x5582ca8532d7 <unknown>\n#2 0x5582ca8568d3 <unknown>\n#3 0x5582ca856642 <unknown>\n#4 0x5582ca85695c <unknown>\n#5 0x5582ca88f887 <unknown>\n#6 0x5582ca88fdb1 <unknown>\n#7 0x5582ca8cd8f4 <unknown>\n#8 0x5582ca8b361d <unknown>\n#9 0x5582ca8cb619 <unknown>\n#10 0x5582ca8b3353 <unknown>\n#11 0x5582ca882e40 <unknown>\n#12 0x5582ca884038 <unknown>\n#13 0x5582caad88be <unknown>\n#14 0x5582caadc8f0 <unknown>\n#15 0x5582caabcf90 <unknown>\n#16 0x5582caaddb7d <unknown>\n#17 0x5582caaae578 <unknown>\n#18 0x5582cab02348 <unknown>\n#19 0x5582cab024d6 <unknown>\n#20 0x5582cab1c341 <unknown>\n#21 0x7f97b9d51fd4 <unknown>\n"
     ]
    }
   ],
   "source": [
    "from selenium import webdriver\n",
    "from selenium.webdriver.firefox.options import Options\n",
    "from selenium.webdriver.common.by import By\n",
    "from selenium.webdriver.common.keys import Keys\n",
    "import time\n",
    "from urllib import parse\n",
    "from selenium.common.exceptions import *\n",
    "import csv\n",
    "from selenium.webdriver.support.wait import *\n",
    "\n",
    "import selenium.webdriver.support.expected_conditions  as EC\n",
    "import os\n",
    "\n",
    "\n",
    "driver = webdriver.Chrome()\n",
    "\n",
    "driver.get(\"https://al-sabeel.net/%d8%a7%d9%84%d9%85%d9%88%d8%b3%d9%88%d8%b9%d8%a9/%d8%a7%d9%84%d8%a8%d8%a7%d8%b7%d9%86%d9%8a%d8%a9-%d8%a7%d9%84%d8%ac%d8%af%d9%8a%d8%af%d8%a9/%d8%ad%d8%b1%d9%83%d8%a9-%d8%a7%d9%84%d8%b9%d8%b5%d8%b1-%d8%a7%d9%84%d8%ac%d8%af%d9%8a%d8%af/\")\n",
    "\n",
    "\n",
    "hi = driver.find_element(By.XPATH, \"/html/body/div[2]/div/div[1]/div/main/div/div/div/article/div[3]/div[1]/div[4]\")\n",
    "\n",
    "\n",
    "print(hi.get_attribute(\"innerHTML\"))"
   ]
  },
  {
   "cell_type": "code",
   "execution_count": 9,
   "metadata": {},
   "outputs": [
    {
     "name": "stdout",
     "output_type": "stream",
     "text": [
      "<div id=\"avia-messagebox-\" style=\"background-color:#08c9bc; color:#ffffff; \" class=\"avia_message_box avia-color-custom avia-size-large avia-icon_select-no avia-border-\"><div class=\"avia_message_box_content\"><p>يظهر تأثير الصوفية اليهودية الباطنية (القبالاه) في جميع الحركات الباطنية الحديثة، فالقبالاه تبني أساس فلسفتها على تأليه الإنسان باعتبار أنه فاض عن الإله ويمكنه الاتحاد به، فالإنسان إذن يمتلك قدرات كامنة خارقة تحتاج إلى من يبحث عنها وينميها ويطلقها من القمقم.<br>\n",
      "كما يزعم القبّاليون أن أسرار “الحكمة” التي نُقلت إليهم بالسر عن الأنبياء هي الحقيقة الوحيدة لجوهر العالم، وأن ظاهر الوحي المذكور في التوراة ليس سوى غطاء للحقيقة الكامنة في باطنه.</p>\n",
      "</div></div>\n"
     ]
    }
   ],
   "source": [
    "hi = driver.find_element(By.XPATH, \"/html/body/div[2]/div/div[1]/div/main/div/div/div/article/div[3]/div[1]/div[4]\")\n",
    "print(hi.get_attribute(\"outerHTML\"))"
   ]
  },
  {
   "cell_type": "code",
   "execution_count": 13,
   "metadata": {},
   "outputs": [
    {
     "name": "stdout",
     "output_type": "stream",
     "text": [
      "/home/unknown/Important/programming/python/Projects/al_sabeel_scraping\n"
     ]
    }
   ],
   "source": [
    "import docx\n",
    "import os\n",
    "os.chdir(\"/home/unknown/Important/programming/python/Projects/al_sabeel_scraping\")\n",
    "\n",
    "doc = docx.Document()\n",
    "\n",
    "doc.add_heading(\"hi\", 1)\n",
    "print(os.getcwd())\n",
    "\n",
    "doc.save(\"test.docx\")"
   ]
  }
 ],
 "metadata": {
  "kernelspec": {
   "display_name": "Python 3.11.1 64-bit",
   "language": "python",
   "name": "python3"
  },
  "language_info": {
   "codemirror_mode": {
    "name": "ipython",
    "version": 3
   },
   "file_extension": ".py",
   "mimetype": "text/x-python",
   "name": "python",
   "nbconvert_exporter": "python",
   "pygments_lexer": "ipython3",
   "version": "3.11.1"
  },
  "orig_nbformat": 4,
  "vscode": {
   "interpreter": {
    "hash": "e7370f93d1d0cde622a1f8e1c04877d8463912d04d973331ad4851f04de6915a"
   }
  }
 },
 "nbformat": 4,
 "nbformat_minor": 2
}
